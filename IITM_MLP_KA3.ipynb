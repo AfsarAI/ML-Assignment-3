{
  "metadata": {
    "kernelspec": {
      "display_name": "Python 3",
      "language": "python",
      "name": "python3"
    },
    "language_info": {
      "codemirror_mode": {
        "name": "ipython",
        "version": 3
      },
      "file_extension": ".py",
      "mimetype": "text/x-python",
      "name": "python",
      "nbconvert_exporter": "python",
      "pygments_lexer": "ipython3",
      "version": "3.11.13"
    },
    "kaggle": {
      "accelerator": "none",
      "dataSources": [
        {
          "sourceId": 111489,
          "databundleVersionId": 13272433,
          "sourceType": "competition"
        }
      ],
      "dockerImageVersionId": 31089,
      "isInternetEnabled": true,
      "language": "python",
      "sourceType": "notebook",
      "isGpuEnabled": false
    },
    "papermill": {
      "default_parameters": {},
      "duration": 762.660938,
      "end_time": "2025-08-19T16:50:30.400173",
      "environment_variables": {},
      "exception": null,
      "input_path": "__notebook__.ipynb",
      "output_path": "__notebook__.ipynb",
      "parameters": {},
      "start_time": "2025-08-19T16:37:47.739235",
      "version": "2.6.0"
    },
    "colab": {
      "name": "IITM-MLP-KA3",
      "provenance": [],
      "include_colab_link": true
    }
  },
  "nbformat_minor": 0,
  "nbformat": 4,
  "cells": [
    {
      "cell_type": "markdown",
      "metadata": {
        "id": "view-in-github",
        "colab_type": "text"
      },
      "source": [
        "<a href=\"https://colab.research.google.com/github/AfsarAI/ML-Assignment-3/blob/main/IITM_MLP_KA3.ipynb\" target=\"_parent\"><img src=\"https://colab.research.google.com/assets/colab-badge.svg\" alt=\"Open In Colab\"/></a>"
      ]
    },
    {
      "source": [
        "# IMPORTANT: SOME KAGGLE DATA SOURCES ARE PRIVATE\n",
        "# RUN THIS CELL IN ORDER TO IMPORT YOUR KAGGLE DATA SOURCES.\n",
        "import kagglehub\n",
        "kagglehub.login()\n"
      ],
      "metadata": {
        "id": "Q_jYWRdhqLvm"
      },
      "cell_type": "code",
      "outputs": [],
      "execution_count": null
    },
    {
      "source": [
        "# IMPORTANT: RUN THIS CELL IN ORDER TO IMPORT YOUR KAGGLE DATA SOURCES,\n",
        "# THEN FEEL FREE TO DELETE THIS CELL.\n",
        "# NOTE: THIS NOTEBOOK ENVIRONMENT DIFFERS FROM KAGGLE'S PYTHON\n",
        "# ENVIRONMENT SO THERE MAY BE MISSING LIBRARIES USED BY YOUR\n",
        "# NOTEBOOK.\n",
        "\n",
        "mlp_term_2_2025_kaggle_assignment_3_path = kagglehub.competition_download('mlp-term-2-2025-kaggle-assignment-3')\n",
        "\n",
        "print('Data source import complete.')\n"
      ],
      "metadata": {
        "id": "1ZX8WV0JqLvr"
      },
      "cell_type": "code",
      "outputs": [],
      "execution_count": null
    },
    {
      "cell_type": "code",
      "source": [
        "# This Python 3 environment comes with many helpful analytics libraries installed\n",
        "# It is defined by the kaggle/python Docker image: https://github.com/kaggle/docker-python\n",
        "# For example, here's several helpful packages to load\n",
        "\n",
        "import numpy as np # linear algebra\n",
        "import pandas as pd # data processing, CSV file I/O (e.g. pd.read_csv)\n",
        "\n",
        "# Input data files are available in the read-only \"../input/\" directory\n",
        "# For example, running this (by clicking run or pressing Shift+Enter) will list all files under the input directory\n",
        "\n",
        "import os\n",
        "for dirname, _, filenames in os.walk('/kaggle/input'):\n",
        "    for filename in filenames:\n",
        "        print(os.path.join(dirname, filename))\n",
        "\n",
        "# You can write up to 20GB to the current directory (/kaggle/working/) that gets preserved as output when you create a version using \"Save & Run All\"\n",
        "# You can also write temporary files to /kaggle/temp/, but they won't be saved outside of the current session"
      ],
      "metadata": {
        "_cell_guid": "b1076dfc-b9ad-4769-8c92-a6c4dae69d19",
        "_uuid": "8f2839f25d086af736a60e9eeb907d3b93b6e0e5",
        "papermill": {
          "duration": 1.624131,
          "end_time": "2025-08-19T16:37:53.586212",
          "exception": false,
          "start_time": "2025-08-19T16:37:51.962081",
          "status": "completed"
        },
        "tags": [],
        "trusted": true,
        "execution": {
          "iopub.status.busy": "2025-08-20T15:09:29.786118Z",
          "iopub.execute_input": "2025-08-20T15:09:29.787003Z",
          "iopub.status.idle": "2025-08-20T15:09:30.137431Z",
          "shell.execute_reply.started": "2025-08-20T15:09:29.786971Z",
          "shell.execute_reply": "2025-08-20T15:09:30.136585Z"
        },
        "id": "59bf200f"
      },
      "outputs": [],
      "execution_count": null
    },
    {
      "cell_type": "code",
      "source": [
        "import warnings\n",
        "warnings.filterwarnings(\"ignore\")"
      ],
      "metadata": {
        "papermill": {
          "duration": 0.024708,
          "end_time": "2025-08-19T16:37:53.630083",
          "exception": false,
          "start_time": "2025-08-19T16:37:53.605375",
          "status": "completed"
        },
        "tags": [],
        "trusted": true,
        "execution": {
          "iopub.status.busy": "2025-08-20T15:09:30.138994Z",
          "iopub.execute_input": "2025-08-20T15:09:30.139442Z",
          "iopub.status.idle": "2025-08-20T15:09:30.144468Z",
          "shell.execute_reply.started": "2025-08-20T15:09:30.139416Z",
          "shell.execute_reply": "2025-08-20T15:09:30.143571Z"
        },
        "id": "4d387aa8"
      },
      "outputs": [],
      "execution_count": null
    },
    {
      "cell_type": "code",
      "source": [
        "#!pip install sentence_transformers"
      ],
      "metadata": {
        "papermill": {
          "duration": 0.023904,
          "end_time": "2025-08-19T16:37:53.672375",
          "exception": false,
          "start_time": "2025-08-19T16:37:53.648471",
          "status": "completed"
        },
        "tags": [],
        "trusted": true,
        "execution": {
          "iopub.status.busy": "2025-08-20T15:09:30.145309Z",
          "iopub.execute_input": "2025-08-20T15:09:30.14558Z",
          "iopub.status.idle": "2025-08-20T15:09:30.164975Z",
          "shell.execute_reply.started": "2025-08-20T15:09:30.145551Z",
          "shell.execute_reply": "2025-08-20T15:09:30.164018Z"
        },
        "id": "751e1a44"
      },
      "outputs": [],
      "execution_count": null
    },
    {
      "cell_type": "code",
      "source": [
        "import time\n",
        "\n",
        "import pandas as pd\n",
        "import numpy as np\n",
        "import matplotlib.pyplot as plt\n",
        "import seaborn as sns\n",
        "\n",
        "from sentence_transformers import SentenceTransformer\n",
        "\n",
        "from sklearn.model_selection import train_test_split, RandomizedSearchCV\n",
        "from sklearn.preprocessing import StandardScaler\n",
        "from sklearn.compose import ColumnTransformer\n",
        "\n",
        "from sklearn.linear_model import (\n",
        "    LogisticRegression, RidgeClassifier,\n",
        "    PassiveAggressiveClassifier, Perceptron\n",
        ")\n",
        "from sklearn.ensemble import ExtraTreesClassifier\n",
        "from xgboost import XGBClassifier\n",
        "from sklearn.neighbors import KNeighborsClassifier\n",
        "\n",
        "from sklearn.metrics import accuracy_score, f1_score, precision_score, recall_score"
      ],
      "metadata": {
        "papermill": {
          "duration": 35.246786,
          "end_time": "2025-08-19T16:38:28.937595",
          "exception": false,
          "start_time": "2025-08-19T16:37:53.690809",
          "status": "completed"
        },
        "tags": [],
        "trusted": true,
        "execution": {
          "iopub.status.busy": "2025-08-20T15:09:30.166092Z",
          "iopub.execute_input": "2025-08-20T15:09:30.16643Z",
          "iopub.status.idle": "2025-08-20T15:10:08.721905Z",
          "shell.execute_reply.started": "2025-08-20T15:09:30.166381Z",
          "shell.execute_reply": "2025-08-20T15:10:08.720908Z"
        },
        "id": "e2c807c1"
      },
      "outputs": [],
      "execution_count": null
    },
    {
      "cell_type": "code",
      "source": [
        "df = pd.read_csv('/kaggle/input/mlp-term-2-2025-kaggle-assignment-3/train.csv')\n",
        "test_df = pd.read_csv('/kaggle/input/mlp-term-2-2025-kaggle-assignment-3/test.csv')"
      ],
      "metadata": {
        "papermill": {
          "duration": 0.277197,
          "end_time": "2025-08-19T16:38:29.233374",
          "exception": false,
          "start_time": "2025-08-19T16:38:28.956177",
          "status": "completed"
        },
        "tags": [],
        "trusted": true,
        "execution": {
          "iopub.status.busy": "2025-08-20T15:10:08.724635Z",
          "iopub.execute_input": "2025-08-20T15:10:08.725747Z",
          "iopub.status.idle": "2025-08-20T15:10:09.057393Z",
          "shell.execute_reply.started": "2025-08-20T15:10:08.725719Z",
          "shell.execute_reply": "2025-08-20T15:10:09.056258Z"
        },
        "id": "188bb73a"
      },
      "outputs": [],
      "execution_count": null
    },
    {
      "cell_type": "markdown",
      "source": [
        "# Identify data types of different columns"
      ],
      "metadata": {
        "papermill": {
          "duration": 0.017137,
          "end_time": "2025-08-19T16:38:29.268962",
          "exception": false,
          "start_time": "2025-08-19T16:38:29.251825",
          "status": "completed"
        },
        "tags": [],
        "id": "88ccb27d"
      }
    },
    {
      "cell_type": "code",
      "source": [
        "df.info()"
      ],
      "metadata": {
        "papermill": {
          "duration": 0.06295,
          "end_time": "2025-08-19T16:38:29.422311",
          "exception": false,
          "start_time": "2025-08-19T16:38:29.359361",
          "status": "completed"
        },
        "tags": [],
        "trusted": true,
        "execution": {
          "iopub.status.busy": "2025-08-20T15:10:09.058359Z",
          "iopub.execute_input": "2025-08-20T15:10:09.05871Z",
          "iopub.status.idle": "2025-08-20T15:10:09.105264Z",
          "shell.execute_reply.started": "2025-08-20T15:10:09.058683Z",
          "shell.execute_reply": "2025-08-20T15:10:09.104373Z"
        },
        "id": "134edc98"
      },
      "outputs": [],
      "execution_count": null
    },
    {
      "cell_type": "markdown",
      "source": [
        "Drop Columns"
      ],
      "metadata": {
        "papermill": {
          "duration": 0.018178,
          "end_time": "2025-08-19T16:38:29.460378",
          "exception": false,
          "start_time": "2025-08-19T16:38:29.4422",
          "status": "completed"
        },
        "tags": [],
        "id": "543b6c4a"
      }
    },
    {
      "cell_type": "code",
      "source": [
        "for i in (df, test_df):\n",
        "  i.drop(columns=['id'], inplace=True)"
      ],
      "metadata": {
        "papermill": {
          "duration": 0.032219,
          "end_time": "2025-08-19T16:38:29.511694",
          "exception": false,
          "start_time": "2025-08-19T16:38:29.479475",
          "status": "completed"
        },
        "tags": [],
        "trusted": true,
        "execution": {
          "iopub.status.busy": "2025-08-20T15:10:09.106276Z",
          "iopub.execute_input": "2025-08-20T15:10:09.106615Z",
          "iopub.status.idle": "2025-08-20T15:10:09.120802Z",
          "shell.execute_reply.started": "2025-08-20T15:10:09.106585Z",
          "shell.execute_reply": "2025-08-20T15:10:09.119703Z"
        },
        "id": "25660bd8"
      },
      "outputs": [],
      "execution_count": null
    },
    {
      "cell_type": "code",
      "source": [
        "for i in (df, test_df):\n",
        "  i.drop(columns=['store_name', 'category'], inplace=True)"
      ],
      "metadata": {
        "papermill": {
          "duration": 0.027419,
          "end_time": "2025-08-19T16:38:29.557447",
          "exception": false,
          "start_time": "2025-08-19T16:38:29.530028",
          "status": "completed"
        },
        "tags": [],
        "trusted": true,
        "execution": {
          "iopub.status.busy": "2025-08-20T15:10:09.121698Z",
          "iopub.execute_input": "2025-08-20T15:10:09.122099Z",
          "iopub.status.idle": "2025-08-20T15:10:09.146979Z",
          "shell.execute_reply.started": "2025-08-20T15:10:09.122072Z",
          "shell.execute_reply": "2025-08-20T15:10:09.145945Z"
        },
        "id": "b8273ee7"
      },
      "outputs": [],
      "execution_count": null
    },
    {
      "cell_type": "markdown",
      "source": [
        "Converting review_type to numeric"
      ],
      "metadata": {
        "papermill": {
          "duration": 0.018386,
          "end_time": "2025-08-19T16:38:29.594514",
          "exception": false,
          "start_time": "2025-08-19T16:38:29.576128",
          "status": "completed"
        },
        "tags": [],
        "id": "8dd5fb17"
      }
    },
    {
      "cell_type": "code",
      "source": [
        "def get_hours_ago(time: str) -> int:\n",
        "  components = time.split(' ')\n",
        "  num_value = components[0]\n",
        "  if num_value == 'a':\n",
        "    num_value = 1\n",
        "  else:\n",
        "    num_value = int(num_value)\n",
        "\n",
        "  if components[1].startswith('hour'):\n",
        "    multiplier = 1\n",
        "  elif components[1].startswith('day'):\n",
        "    multiplier = 24\n",
        "  elif components[1].startswith('week'):\n",
        "    multiplier = 24 * 7\n",
        "  elif components[1].startswith('month'):\n",
        "    multiplier = 24 * 30\n",
        "  elif components[1].startswith('year'):\n",
        "    multiplier = 24 * 365\n",
        "\n",
        "  return num_value * multiplier\n",
        "\n",
        "for i in (df, test_df):\n",
        "  i['review_time'] = i['review_time'].apply(get_hours_ago)\n",
        "  i.rename(columns={'review_time': 'hours_ago'}, inplace=True)"
      ],
      "metadata": {
        "papermill": {
          "duration": 0.058079,
          "end_time": "2025-08-19T16:38:29.672471",
          "exception": false,
          "start_time": "2025-08-19T16:38:29.614392",
          "status": "completed"
        },
        "tags": [],
        "trusted": true,
        "execution": {
          "iopub.status.busy": "2025-08-20T15:10:09.147977Z",
          "iopub.execute_input": "2025-08-20T15:10:09.148229Z",
          "iopub.status.idle": "2025-08-20T15:10:09.207092Z",
          "shell.execute_reply.started": "2025-08-20T15:10:09.14821Z",
          "shell.execute_reply": "2025-08-20T15:10:09.206185Z"
        },
        "id": "8e075779"
      },
      "outputs": [],
      "execution_count": null
    },
    {
      "cell_type": "markdown",
      "source": [
        "Removing Space"
      ],
      "metadata": {
        "papermill": {
          "duration": 0.018503,
          "end_time": "2025-08-19T16:38:29.710891",
          "exception": false,
          "start_time": "2025-08-19T16:38:29.692388",
          "status": "completed"
        },
        "tags": [],
        "id": "92c102c8"
      }
    },
    {
      "cell_type": "code",
      "source": [
        "df.rename(columns={'latitude ': 'latitude'}, inplace=True)"
      ],
      "metadata": {
        "papermill": {
          "duration": 0.026949,
          "end_time": "2025-08-19T16:38:29.756262",
          "exception": false,
          "start_time": "2025-08-19T16:38:29.729313",
          "status": "completed"
        },
        "tags": [],
        "trusted": true,
        "execution": {
          "iopub.status.busy": "2025-08-20T15:10:09.207843Z",
          "iopub.execute_input": "2025-08-20T15:10:09.2081Z",
          "iopub.status.idle": "2025-08-20T15:10:09.213006Z",
          "shell.execute_reply.started": "2025-08-20T15:10:09.20808Z",
          "shell.execute_reply": "2025-08-20T15:10:09.211911Z"
        },
        "id": "66c0367a"
      },
      "outputs": [],
      "execution_count": null
    },
    {
      "cell_type": "markdown",
      "source": [
        "Removing comma"
      ],
      "metadata": {
        "papermill": {
          "duration": 0.020325,
          "end_time": "2025-08-19T16:38:29.796239",
          "exception": false,
          "start_time": "2025-08-19T16:38:29.775914",
          "status": "completed"
        },
        "tags": [],
        "id": "e85f33af"
      }
    },
    {
      "cell_type": "code",
      "source": [
        "for i in (df, test_df):\n",
        "  i['rating_count'] = i['rating_count'].str.replace(',', '').astype(int)"
      ],
      "metadata": {
        "papermill": {
          "duration": 0.034604,
          "end_time": "2025-08-19T16:38:29.849928",
          "exception": false,
          "start_time": "2025-08-19T16:38:29.815324",
          "status": "completed"
        },
        "tags": [],
        "trusted": true,
        "execution": {
          "iopub.status.busy": "2025-08-20T15:10:09.213939Z",
          "iopub.execute_input": "2025-08-20T15:10:09.214342Z",
          "iopub.status.idle": "2025-08-20T15:10:09.247169Z",
          "shell.execute_reply.started": "2025-08-20T15:10:09.214309Z",
          "shell.execute_reply": "2025-08-20T15:10:09.245914Z"
        },
        "id": "2bc8981a"
      },
      "outputs": [],
      "execution_count": null
    },
    {
      "cell_type": "markdown",
      "source": [
        "Dropping unimportant"
      ],
      "metadata": {
        "papermill": {
          "duration": 0.01923,
          "end_time": "2025-08-19T16:38:29.889677",
          "exception": false,
          "start_time": "2025-08-19T16:38:29.870447",
          "status": "completed"
        },
        "tags": [],
        "id": "58ddd16e"
      }
    },
    {
      "cell_type": "code",
      "source": [
        "for i in (df, test_df):\n",
        "  i.drop(columns=['store_address'], inplace=True)"
      ],
      "metadata": {
        "papermill": {
          "duration": 0.02937,
          "end_time": "2025-08-19T16:38:29.937497",
          "exception": false,
          "start_time": "2025-08-19T16:38:29.908127",
          "status": "completed"
        },
        "tags": [],
        "trusted": true,
        "execution": {
          "iopub.status.busy": "2025-08-20T15:10:09.248338Z",
          "iopub.execute_input": "2025-08-20T15:10:09.249734Z",
          "iopub.status.idle": "2025-08-20T15:10:09.266664Z",
          "shell.execute_reply.started": "2025-08-20T15:10:09.249691Z",
          "shell.execute_reply": "2025-08-20T15:10:09.265547Z"
        },
        "id": "44cd70ed"
      },
      "outputs": [],
      "execution_count": null
    },
    {
      "cell_type": "markdown",
      "source": [
        "# Present descriptive statistics of numerical columns"
      ],
      "metadata": {
        "papermill": {
          "duration": 0.023272,
          "end_time": "2025-08-19T16:38:29.980085",
          "exception": false,
          "start_time": "2025-08-19T16:38:29.956813",
          "status": "completed"
        },
        "tags": [],
        "id": "8d563d4d"
      }
    },
    {
      "cell_type": "code",
      "source": [
        "df.describe()"
      ],
      "metadata": {
        "papermill": {
          "duration": 0.064548,
          "end_time": "2025-08-19T16:38:30.07498",
          "exception": false,
          "start_time": "2025-08-19T16:38:30.010432",
          "status": "completed"
        },
        "tags": [],
        "trusted": true,
        "execution": {
          "iopub.status.busy": "2025-08-20T15:10:09.267713Z",
          "iopub.execute_input": "2025-08-20T15:10:09.268125Z",
          "iopub.status.idle": "2025-08-20T15:10:09.315888Z",
          "shell.execute_reply.started": "2025-08-20T15:10:09.268099Z",
          "shell.execute_reply": "2025-08-20T15:10:09.314937Z"
        },
        "id": "74177ed1"
      },
      "outputs": [],
      "execution_count": null
    },
    {
      "cell_type": "markdown",
      "source": [
        "# Identify and Handle Missing Values"
      ],
      "metadata": {
        "papermill": {
          "duration": 0.019788,
          "end_time": "2025-08-19T16:38:30.114812",
          "exception": false,
          "start_time": "2025-08-19T16:38:30.095024",
          "status": "completed"
        },
        "tags": [],
        "id": "77482d71"
      }
    },
    {
      "cell_type": "code",
      "source": [
        "df.isna().sum()"
      ],
      "metadata": {
        "papermill": {
          "duration": 0.030857,
          "end_time": "2025-08-19T16:38:30.164603",
          "exception": false,
          "start_time": "2025-08-19T16:38:30.133746",
          "status": "completed"
        },
        "tags": [],
        "trusted": true,
        "execution": {
          "iopub.status.busy": "2025-08-20T15:10:09.319881Z",
          "iopub.execute_input": "2025-08-20T15:10:09.320179Z",
          "iopub.status.idle": "2025-08-20T15:10:09.332627Z",
          "shell.execute_reply.started": "2025-08-20T15:10:09.320158Z",
          "shell.execute_reply": "2025-08-20T15:10:09.331609Z"
        },
        "id": "680ec1b0"
      },
      "outputs": [],
      "execution_count": null
    },
    {
      "cell_type": "code",
      "source": [
        "from sklearn.impute import SimpleImputer\n",
        "from sklearn.compose import ColumnTransformer\n",
        "\n",
        "imputer=ColumnTransformer([('most_frequent',SimpleImputer(missing_values=np.nan, strategy='most_frequent'),['latitude','longitude'])],remainder='passthrough',verbose_feature_names_out=False).set_output(transform='pandas')\n",
        "df=imputer.fit_transform(df)\n",
        "test_df=imputer.fit_transform(test_df)"
      ],
      "metadata": {
        "papermill": {
          "duration": 0.059839,
          "end_time": "2025-08-19T16:38:30.243667",
          "exception": false,
          "start_time": "2025-08-19T16:38:30.183828",
          "status": "completed"
        },
        "tags": [],
        "trusted": true,
        "execution": {
          "iopub.status.busy": "2025-08-20T15:10:09.333868Z",
          "iopub.execute_input": "2025-08-20T15:10:09.334561Z",
          "iopub.status.idle": "2025-08-20T15:10:09.395237Z",
          "shell.execute_reply.started": "2025-08-20T15:10:09.334507Z",
          "shell.execute_reply": "2025-08-20T15:10:09.394142Z"
        },
        "id": "3adede65"
      },
      "outputs": [],
      "execution_count": null
    },
    {
      "cell_type": "code",
      "source": [
        "df.isna().sum()"
      ],
      "metadata": {
        "papermill": {
          "duration": 0.033795,
          "end_time": "2025-08-19T16:38:30.302423",
          "exception": false,
          "start_time": "2025-08-19T16:38:30.268628",
          "status": "completed"
        },
        "tags": [],
        "trusted": true,
        "execution": {
          "iopub.status.busy": "2025-08-20T15:10:09.396226Z",
          "iopub.execute_input": "2025-08-20T15:10:09.396976Z",
          "iopub.status.idle": "2025-08-20T15:10:09.40639Z",
          "shell.execute_reply.started": "2025-08-20T15:10:09.396946Z",
          "shell.execute_reply": "2025-08-20T15:10:09.405569Z"
        },
        "id": "9b48a63f"
      },
      "outputs": [],
      "execution_count": null
    },
    {
      "cell_type": "code",
      "source": [
        "test_df.isna().sum()"
      ],
      "metadata": {
        "papermill": {
          "duration": 0.027415,
          "end_time": "2025-08-19T16:38:30.349683",
          "exception": false,
          "start_time": "2025-08-19T16:38:30.322268",
          "status": "completed"
        },
        "tags": [],
        "trusted": true,
        "execution": {
          "iopub.status.busy": "2025-08-20T15:10:09.407374Z",
          "iopub.execute_input": "2025-08-20T15:10:09.407745Z",
          "iopub.status.idle": "2025-08-20T15:10:09.42787Z",
          "shell.execute_reply.started": "2025-08-20T15:10:09.407716Z",
          "shell.execute_reply": "2025-08-20T15:10:09.426569Z"
        },
        "id": "e2f039bf"
      },
      "outputs": [],
      "execution_count": null
    },
    {
      "cell_type": "markdown",
      "source": [
        "# Identify and handle duplicates"
      ],
      "metadata": {
        "papermill": {
          "duration": 0.019116,
          "end_time": "2025-08-19T16:38:30.387112",
          "exception": false,
          "start_time": "2025-08-19T16:38:30.367996",
          "status": "completed"
        },
        "tags": [],
        "id": "a9faa956"
      }
    },
    {
      "cell_type": "code",
      "source": [
        "init_samples = df.shape[0]\n",
        "df.drop_duplicates(inplace=True, ignore_index=True)\n",
        "print(f\"Duplicates removed: {init_samples - df.shape[0]}\")"
      ],
      "metadata": {
        "papermill": {
          "duration": 0.041501,
          "end_time": "2025-08-19T16:38:30.446203",
          "exception": false,
          "start_time": "2025-08-19T16:38:30.404702",
          "status": "completed"
        },
        "tags": [],
        "trusted": true,
        "execution": {
          "iopub.status.busy": "2025-08-20T15:10:09.429084Z",
          "iopub.execute_input": "2025-08-20T15:10:09.429863Z",
          "iopub.status.idle": "2025-08-20T15:10:09.47042Z",
          "shell.execute_reply.started": "2025-08-20T15:10:09.429757Z",
          "shell.execute_reply": "2025-08-20T15:10:09.469215Z"
        },
        "id": "b3efd853"
      },
      "outputs": [],
      "execution_count": null
    },
    {
      "cell_type": "markdown",
      "source": [
        "# Identify and handle outliers"
      ],
      "metadata": {
        "papermill": {
          "duration": 0.018276,
          "end_time": "2025-08-19T16:38:30.483301",
          "exception": false,
          "start_time": "2025-08-19T16:38:30.465025",
          "status": "completed"
        },
        "tags": [],
        "id": "69b4003f"
      }
    },
    {
      "cell_type": "code",
      "source": [
        "outliers_present = {'Train': {}, 'Test': {}}\n",
        "\n",
        "IQR_multiplier = 2\n",
        "for col in ['latitude', 'longitude', 'rating_count', 'hours_ago']:\n",
        "  Q1 = df[col].quantile(0.25)\n",
        "  Q3 = df[col].quantile(0.75)\n",
        "  IQR = Q3 - Q1\n",
        "  lower_bound = Q1 - IQR_multiplier * IQR\n",
        "  upper_bound = Q3 + IQR_multiplier * IQR\n",
        "\n",
        "  for i in (df, test_df):\n",
        "    outliers = i[(i[col] < lower_bound) | (i[col] > upper_bound)].shape[0]\n",
        "    if i.shape[0] > 20000:\n",
        "      outliers_present['Train'][col] = outliers\n",
        "    else:\n",
        "      outliers_present['Test'][col] = outliers\n",
        "    i[col].clip(lower=lower_bound, upper=upper_bound, inplace=True)\n",
        "\n",
        "for i in outliers_present:\n",
        "  print(f\"Outliers Removed in {i} Data:\")\n",
        "  for col in outliers_present[i]:\n",
        "    print(f\"    {col}: {outliers_present[i][col]}\")\n",
        "  print()"
      ],
      "metadata": {
        "papermill": {
          "duration": 0.047687,
          "end_time": "2025-08-19T16:38:30.550103",
          "exception": false,
          "start_time": "2025-08-19T16:38:30.502416",
          "status": "completed"
        },
        "tags": [],
        "trusted": true,
        "execution": {
          "iopub.status.busy": "2025-08-20T15:10:09.471483Z",
          "iopub.execute_input": "2025-08-20T15:10:09.471832Z",
          "iopub.status.idle": "2025-08-20T15:10:09.513957Z",
          "shell.execute_reply.started": "2025-08-20T15:10:09.4718Z",
          "shell.execute_reply": "2025-08-20T15:10:09.512764Z"
        },
        "id": "1f393c24"
      },
      "outputs": [],
      "execution_count": null
    },
    {
      "cell_type": "markdown",
      "source": [
        "# Visualizations and Insights"
      ],
      "metadata": {
        "papermill": {
          "duration": 0.018836,
          "end_time": "2025-08-19T16:38:30.588159",
          "exception": false,
          "start_time": "2025-08-19T16:38:30.569323",
          "status": "completed"
        },
        "tags": [],
        "id": "9e1d460f"
      }
    },
    {
      "cell_type": "code",
      "source": [
        "plot_df = df['rating'].value_counts()\n",
        "\n",
        "plt.bar(plot_df.index, plot_df)\n",
        "plt.title(\"Rating Distribution\")\n",
        "plt.xlabel(\"Rating\")\n",
        "plt.ylabel(\"Count\")\n",
        "plt.show()"
      ],
      "metadata": {
        "papermill": {
          "duration": 0.235898,
          "end_time": "2025-08-19T16:38:30.843244",
          "exception": false,
          "start_time": "2025-08-19T16:38:30.607346",
          "status": "completed"
        },
        "tags": [],
        "trusted": true,
        "execution": {
          "iopub.status.busy": "2025-08-20T15:10:09.514888Z",
          "iopub.execute_input": "2025-08-20T15:10:09.515141Z",
          "iopub.status.idle": "2025-08-20T15:10:09.779192Z",
          "shell.execute_reply.started": "2025-08-20T15:10:09.515122Z",
          "shell.execute_reply": "2025-08-20T15:10:09.778314Z"
        },
        "id": "ef5e6018"
      },
      "outputs": [],
      "execution_count": null
    },
    {
      "cell_type": "code",
      "source": [
        "plt.hexbin(df['longitude'], df['latitude'], gridsize=40, cmap='Blues')\n",
        "plt.colorbar(label='Count')\n",
        "plt.title(\"Location Density\")\n",
        "plt.xlabel(\"Longitude\")\n",
        "plt.ylabel(\"Latitude\")\n",
        "plt.show()"
      ],
      "metadata": {
        "papermill": {
          "duration": 0.245195,
          "end_time": "2025-08-19T16:38:31.109178",
          "exception": false,
          "start_time": "2025-08-19T16:38:30.863983",
          "status": "completed"
        },
        "tags": [],
        "trusted": true,
        "execution": {
          "iopub.status.busy": "2025-08-20T15:10:09.780124Z",
          "iopub.execute_input": "2025-08-20T15:10:09.780381Z",
          "iopub.status.idle": "2025-08-20T15:10:10.497485Z",
          "shell.execute_reply.started": "2025-08-20T15:10:09.780361Z",
          "shell.execute_reply": "2025-08-20T15:10:10.496571Z"
        },
        "id": "cd9cb139"
      },
      "outputs": [],
      "execution_count": null
    },
    {
      "cell_type": "code",
      "source": [
        "plt.boxplot(df['rating_count'])\n",
        "plt.title(\"Rating Count Distribution\")\n",
        "plt.ylabel(\"Rating Count\")\n",
        "plt.show()"
      ],
      "metadata": {
        "papermill": {
          "duration": 0.12361,
          "end_time": "2025-08-19T16:38:31.253034",
          "exception": false,
          "start_time": "2025-08-19T16:38:31.129424",
          "status": "completed"
        },
        "tags": [],
        "trusted": true,
        "execution": {
          "iopub.status.busy": "2025-08-20T15:10:10.49841Z",
          "iopub.execute_input": "2025-08-20T15:10:10.498761Z",
          "iopub.status.idle": "2025-08-20T15:10:10.639398Z",
          "shell.execute_reply.started": "2025-08-20T15:10:10.498731Z",
          "shell.execute_reply": "2025-08-20T15:10:10.638473Z"
        },
        "id": "46f147d8"
      },
      "outputs": [],
      "execution_count": null
    },
    {
      "cell_type": "markdown",
      "source": [
        "# Scale Numerical features and Encode Categorical features"
      ],
      "metadata": {
        "papermill": {
          "duration": 0.01959,
          "end_time": "2025-08-19T16:38:31.292621",
          "exception": false,
          "start_time": "2025-08-19T16:38:31.273031",
          "status": "completed"
        },
        "tags": [],
        "id": "fd69c0ce"
      }
    },
    {
      "cell_type": "code",
      "source": [
        "from sentence_transformers import SentenceTransformer\n",
        "\n",
        "model = SentenceTransformer('all-MiniLM-L6-v2', device='cpu')"
      ],
      "metadata": {
        "papermill": {
          "duration": 11.659188,
          "end_time": "2025-08-19T16:38:42.971399",
          "exception": false,
          "start_time": "2025-08-19T16:38:31.312211",
          "status": "completed"
        },
        "tags": [],
        "trusted": true,
        "execution": {
          "iopub.status.busy": "2025-08-20T15:10:10.640492Z",
          "iopub.execute_input": "2025-08-20T15:10:10.640819Z",
          "iopub.status.idle": "2025-08-20T15:10:19.42095Z",
          "shell.execute_reply.started": "2025-08-20T15:10:10.640797Z",
          "shell.execute_reply": "2025-08-20T15:10:19.419955Z"
        },
        "id": "ce59fbff"
      },
      "outputs": [],
      "execution_count": null
    },
    {
      "cell_type": "code",
      "source": [
        "for i in ('df', 'test_df'):\n",
        "  temp_df = globals()[i]\n",
        "\n",
        "  review_embeddings = model.encode(\n",
        "    temp_df['review'],\n",
        "    show_progress_bar=True,\n",
        "    normalize_embeddings=True,\n",
        "    convert_to_numpy=True,\n",
        "  )\n",
        "\n",
        "  temp_df.drop(columns=['review'], inplace=True)\n",
        "  review_embeddings_df = pd.DataFrame(\n",
        "      review_embeddings,\n",
        "      columns=[f\"review_{i}\" for i in range(0, review_embeddings.shape[1])]\n",
        "  )\n",
        "  temp_df = pd.concat([temp_df, review_embeddings_df], axis=1)\n",
        "\n",
        "  globals()[i] = temp_df"
      ],
      "metadata": {
        "papermill": {
          "duration": 438.744157,
          "end_time": "2025-08-19T16:46:01.736375",
          "exception": false,
          "start_time": "2025-08-19T16:38:42.992218",
          "status": "completed"
        },
        "tags": [],
        "trusted": true,
        "execution": {
          "iopub.status.busy": "2025-08-20T15:10:19.421911Z",
          "iopub.execute_input": "2025-08-20T15:10:19.422197Z",
          "iopub.status.idle": "2025-08-20T15:19:03.91534Z",
          "shell.execute_reply.started": "2025-08-20T15:10:19.422174Z",
          "shell.execute_reply": "2025-08-20T15:19:03.914325Z"
        },
        "id": "99e01f52"
      },
      "outputs": [],
      "execution_count": null
    },
    {
      "cell_type": "code",
      "source": [
        "del temp_df, review_embeddings, review_embeddings_df"
      ],
      "metadata": {
        "papermill": {
          "duration": 0.027449,
          "end_time": "2025-08-19T16:46:01.784108",
          "exception": false,
          "start_time": "2025-08-19T16:46:01.756659",
          "status": "completed"
        },
        "tags": [],
        "trusted": true,
        "execution": {
          "iopub.status.busy": "2025-08-20T15:19:03.9164Z",
          "iopub.execute_input": "2025-08-20T15:19:03.916749Z",
          "iopub.status.idle": "2025-08-20T15:19:03.921554Z",
          "shell.execute_reply.started": "2025-08-20T15:19:03.91672Z",
          "shell.execute_reply": "2025-08-20T15:19:03.920581Z"
        },
        "id": "cbe170d8"
      },
      "outputs": [],
      "execution_count": null
    },
    {
      "cell_type": "code",
      "source": [
        "train_x, valid_x, train_y, valid_y = train_test_split(\n",
        "    df.drop(columns=['rating']),\n",
        "    df['rating'],\n",
        "    test_size=0.2,\n",
        "    random_state=42,\n",
        ")"
      ],
      "metadata": {
        "papermill": {
          "duration": 0.069281,
          "end_time": "2025-08-19T16:46:01.874823",
          "exception": false,
          "start_time": "2025-08-19T16:46:01.805542",
          "status": "completed"
        },
        "tags": [],
        "trusted": true,
        "execution": {
          "iopub.status.busy": "2025-08-20T15:19:03.922663Z",
          "iopub.execute_input": "2025-08-20T15:19:03.923085Z",
          "iopub.status.idle": "2025-08-20T15:19:03.982938Z",
          "shell.execute_reply.started": "2025-08-20T15:19:03.923054Z",
          "shell.execute_reply": "2025-08-20T15:19:03.982045Z"
        },
        "id": "2b296d55"
      },
      "outputs": [],
      "execution_count": null
    },
    {
      "cell_type": "code",
      "source": [
        "num_cols = ['latitude', 'longitude', 'rating_count', 'hours_ago']\n",
        "pass_cols = train_x.columns[4:].tolist()"
      ],
      "metadata": {
        "papermill": {
          "duration": 0.026509,
          "end_time": "2025-08-19T16:46:01.922413",
          "exception": false,
          "start_time": "2025-08-19T16:46:01.895904",
          "status": "completed"
        },
        "tags": [],
        "trusted": true,
        "execution": {
          "iopub.status.busy": "2025-08-20T15:19:03.983942Z",
          "iopub.execute_input": "2025-08-20T15:19:03.98427Z",
          "iopub.status.idle": "2025-08-20T15:19:03.988658Z",
          "shell.execute_reply.started": "2025-08-20T15:19:03.984245Z",
          "shell.execute_reply": "2025-08-20T15:19:03.987711Z"
        },
        "id": "1d9f52f6"
      },
      "outputs": [],
      "execution_count": null
    },
    {
      "cell_type": "code",
      "source": [
        "transformer = ColumnTransformer(transformers=[\n",
        "    ('ss', StandardScaler(), num_cols),\n",
        "    ('pass', 'passthrough', pass_cols)\n",
        "])\n",
        "transformer.fit(train_x, train_y)"
      ],
      "metadata": {
        "papermill": {
          "duration": 0.056712,
          "end_time": "2025-08-19T16:46:01.999524",
          "exception": false,
          "start_time": "2025-08-19T16:46:01.942812",
          "status": "completed"
        },
        "tags": [],
        "trusted": true,
        "execution": {
          "iopub.status.busy": "2025-08-20T15:19:03.989618Z",
          "iopub.execute_input": "2025-08-20T15:19:03.990014Z",
          "iopub.status.idle": "2025-08-20T15:19:04.067657Z",
          "shell.execute_reply.started": "2025-08-20T15:19:03.989985Z",
          "shell.execute_reply": "2025-08-20T15:19:04.066543Z"
        },
        "id": "d622325a"
      },
      "outputs": [],
      "execution_count": null
    },
    {
      "cell_type": "code",
      "source": [
        "for var in ('train_x', 'valid_x'):\n",
        "    i = globals()[var]\n",
        "\n",
        "    transformed = transformer.transform(i)\n",
        "    feature_names = transformer.get_feature_names_out()\n",
        "    index = i.index\n",
        "    i = pd.DataFrame(transformed, columns=feature_names, index=index)\n",
        "\n",
        "    globals()[var] = i"
      ],
      "metadata": {
        "papermill": {
          "duration": 0.051007,
          "end_time": "2025-08-19T16:46:02.072192",
          "exception": false,
          "start_time": "2025-08-19T16:46:02.021185",
          "status": "completed"
        },
        "tags": [],
        "trusted": true,
        "execution": {
          "iopub.status.busy": "2025-08-20T15:19:04.068992Z",
          "iopub.execute_input": "2025-08-20T15:19:04.069243Z",
          "iopub.status.idle": "2025-08-20T15:19:04.114474Z",
          "shell.execute_reply.started": "2025-08-20T15:19:04.069225Z",
          "shell.execute_reply": "2025-08-20T15:19:04.113694Z"
        },
        "id": "215d51da"
      },
      "outputs": [],
      "execution_count": null
    },
    {
      "cell_type": "markdown",
      "source": [
        "# Model Building (at least 7)"
      ],
      "metadata": {
        "papermill": {
          "duration": 0.021502,
          "end_time": "2025-08-19T16:46:02.115481",
          "exception": false,
          "start_time": "2025-08-19T16:46:02.093979",
          "status": "completed"
        },
        "tags": [],
        "id": "e775b97e"
      }
    },
    {
      "cell_type": "code",
      "source": [
        "results = {}\n",
        "models = {\n",
        "  \"Logistic Regression\": LogisticRegression(random_state=42, n_jobs=-1, multi_class='multinomial'),\n",
        "  \"Ridge Classifier\": RidgeClassifier(random_state=42),\n",
        "  \"PassiveAggressiveClassifier\": PassiveAggressiveClassifier(random_state=42),\n",
        "  \"Perceptron\": Perceptron(random_state=42, n_jobs=-1),\n",
        "  \"Extra Trees\": ExtraTreesClassifier(random_state=42, n_jobs=-1),\n",
        "  \"XGBoost\": XGBClassifier(random_state=42, n_jobs=-1),\n",
        "  \"KNN\": KNeighborsClassifier(n_jobs=-1)\n",
        "}"
      ],
      "metadata": {
        "papermill": {
          "duration": 0.028565,
          "end_time": "2025-08-19T16:46:02.164911",
          "exception": false,
          "start_time": "2025-08-19T16:46:02.136346",
          "status": "completed"
        },
        "tags": [],
        "trusted": true,
        "execution": {
          "iopub.status.busy": "2025-08-20T15:19:04.115366Z",
          "iopub.execute_input": "2025-08-20T15:19:04.115638Z",
          "iopub.status.idle": "2025-08-20T15:19:04.121321Z",
          "shell.execute_reply.started": "2025-08-20T15:19:04.115617Z",
          "shell.execute_reply": "2025-08-20T15:19:04.120397Z"
        },
        "id": "e44faf61"
      },
      "outputs": [],
      "execution_count": null
    },
    {
      "cell_type": "code",
      "source": [
        "for model_name in models:\n",
        "  init_time = time.time()\n",
        "\n",
        "  try:\n",
        "    print(f\"---Training {model_name}---\")\n",
        "    if model_name == \"XGBoost\":\n",
        "      models[model_name].fit(train_x, train_y - 1)\n",
        "    else:\n",
        "      models[model_name].fit(train_x, train_y)\n",
        "\n",
        "    if model_name == \"XGBoost\":\n",
        "      valid_pred = models[model_name].predict(valid_x) + 1\n",
        "    else:\n",
        "      valid_pred = models[model_name].predict(valid_x)\n",
        "\n",
        "    f1 = f1_score(valid_y, valid_pred, average='macro')\n",
        "    accuracy = accuracy_score(valid_y, valid_pred)\n",
        "    precision = precision_score(valid_y, valid_pred, average='macro')\n",
        "    recall = recall_score(valid_y, valid_pred, average='macro')\n",
        "    time_taken = time.time() - init_time\n",
        "\n",
        "    results[model_name] = {\n",
        "      \"F1\": round(f1, 4),\n",
        "      \"Accuracy\": round(accuracy, 4),\n",
        "      \"Precision\": round(precision, 4),\n",
        "      \"Recall\": round(recall, 4),\n",
        "      \"Time\": round(time_taken, 2),\n",
        "    }\n",
        "    print('\\n'.join([f'{metric}: {value}' for metric, value in results[model_name].items()]))\n",
        "  except Exception as e:\n",
        "    print(f\"{model_name} training failed with the following error:\")\n",
        "    print(e)\n",
        "    continue\n",
        "  finally:\n",
        "    print('\\n')"
      ],
      "metadata": {
        "papermill": {
          "duration": 40.811621,
          "end_time": "2025-08-19T16:46:42.997933",
          "exception": false,
          "start_time": "2025-08-19T16:46:02.186312",
          "status": "completed"
        },
        "tags": [],
        "trusted": true,
        "execution": {
          "iopub.status.busy": "2025-08-20T15:19:04.122242Z",
          "iopub.execute_input": "2025-08-20T15:19:04.12255Z",
          "iopub.status.idle": "2025-08-20T15:20:00.068707Z",
          "shell.execute_reply.started": "2025-08-20T15:19:04.122507Z",
          "shell.execute_reply": "2025-08-20T15:20:00.067729Z"
        },
        "id": "4413a5b7"
      },
      "outputs": [],
      "execution_count": null
    },
    {
      "cell_type": "markdown",
      "source": [
        "# Comparison of model performances"
      ],
      "metadata": {
        "papermill": {
          "duration": 0.021536,
          "end_time": "2025-08-19T16:46:43.040483",
          "exception": false,
          "start_time": "2025-08-19T16:46:43.018947",
          "status": "completed"
        },
        "tags": [],
        "id": "6b18acd2"
      }
    },
    {
      "cell_type": "code",
      "source": [
        "results_df = pd.DataFrame(results).T.sort_values(by='Accuracy', ascending=False)\n",
        "results_df"
      ],
      "metadata": {
        "papermill": {
          "duration": 0.034482,
          "end_time": "2025-08-19T16:46:43.098199",
          "exception": false,
          "start_time": "2025-08-19T16:46:43.063717",
          "status": "completed"
        },
        "tags": [],
        "trusted": true,
        "execution": {
          "iopub.status.busy": "2025-08-20T15:20:00.069708Z",
          "iopub.execute_input": "2025-08-20T15:20:00.070223Z",
          "iopub.status.idle": "2025-08-20T15:20:00.084726Z",
          "shell.execute_reply.started": "2025-08-20T15:20:00.070196Z",
          "shell.execute_reply": "2025-08-20T15:20:00.083899Z"
        },
        "id": "199c46f6"
      },
      "outputs": [],
      "execution_count": null
    },
    {
      "cell_type": "markdown",
      "source": [
        "# Hyperparameter Tuning on any 3 of the models"
      ],
      "metadata": {
        "papermill": {
          "duration": 0.020983,
          "end_time": "2025-08-19T16:46:43.140806",
          "exception": false,
          "start_time": "2025-08-19T16:46:43.119823",
          "status": "completed"
        },
        "tags": [],
        "id": "2869f6a2"
      }
    },
    {
      "cell_type": "code",
      "source": [
        "df_y = df['rating'].copy()\n",
        "df.drop(columns=['rating'], inplace=True)\n",
        "df_x = df\n",
        "del df"
      ],
      "metadata": {
        "papermill": {
          "duration": 0.035645,
          "end_time": "2025-08-19T16:46:43.198673",
          "exception": false,
          "start_time": "2025-08-19T16:46:43.163028",
          "status": "completed"
        },
        "tags": [],
        "trusted": true,
        "execution": {
          "iopub.status.busy": "2025-08-20T15:20:00.085497Z",
          "iopub.execute_input": "2025-08-20T15:20:00.085787Z",
          "iopub.status.idle": "2025-08-20T15:20:00.124265Z",
          "shell.execute_reply.started": "2025-08-20T15:20:00.085765Z",
          "shell.execute_reply": "2025-08-20T15:20:00.123307Z"
        },
        "id": "a6366b26"
      },
      "outputs": [],
      "execution_count": null
    },
    {
      "cell_type": "code",
      "source": [
        "transformer.fit(df_x, df_y)\n",
        "for var in ('df_x', 'test_df'):\n",
        "    i = globals()[var]\n",
        "\n",
        "    transformed = transformer.transform(i)\n",
        "    feature_names = transformer.get_feature_names_out()\n",
        "    i = pd.DataFrame(transformed, columns=feature_names)\n",
        "\n",
        "    globals()[var] = i"
      ],
      "metadata": {
        "papermill": {
          "duration": 0.077804,
          "end_time": "2025-08-19T16:46:43.298422",
          "exception": false,
          "start_time": "2025-08-19T16:46:43.220618",
          "status": "completed"
        },
        "tags": [],
        "trusted": true,
        "execution": {
          "iopub.status.busy": "2025-08-20T15:20:00.125415Z",
          "iopub.execute_input": "2025-08-20T15:20:00.125763Z",
          "iopub.status.idle": "2025-08-20T15:20:00.234317Z",
          "shell.execute_reply.started": "2025-08-20T15:20:00.125731Z",
          "shell.execute_reply": "2025-08-20T15:20:00.233402Z"
        },
        "id": "76525869"
      },
      "outputs": [],
      "execution_count": null
    },
    {
      "cell_type": "code",
      "source": [
        "params = {\n",
        "    \"Ridge Classifier\": {\n",
        "        \"alpha\": [5],\n",
        "        \"fit_intercept\": [True],\n",
        "        \"max_iter\": [100],\n",
        "    },\n",
        "\n",
        "    \"Perceptron\": {\n",
        "        \"alpha\": [0.005],\n",
        "        \"penalty\": ['l2'],\n",
        "        \"max_iter\": [100],\n",
        "        \"eta0\": [0.01],\n",
        "        \"fit_intercept\": [True],\n",
        "    },\n",
        "\n",
        "    \"XGBoost\": {\n",
        "        \"n_estimators\": [495],\n",
        "        \"max_depth\": [8],\n",
        "        \"learning_rate\": [0.12],\n",
        "        \"subsample\": [0.81],\n",
        "        \"colsample_bytree\": [0.66],\n",
        "        \"gamma\": [1.46],\n",
        "        \"reg_alpha\": [0.79],\n",
        "        \"reg_lambda\": [0.2],\n",
        "    }\n",
        "}"
      ],
      "metadata": {
        "papermill": {
          "duration": 0.029217,
          "end_time": "2025-08-19T16:46:43.349497",
          "exception": false,
          "start_time": "2025-08-19T16:46:43.32028",
          "status": "completed"
        },
        "tags": [],
        "trusted": true,
        "execution": {
          "iopub.status.busy": "2025-08-20T15:20:00.235247Z",
          "iopub.execute_input": "2025-08-20T15:20:00.2355Z",
          "iopub.status.idle": "2025-08-20T15:20:00.241837Z",
          "shell.execute_reply.started": "2025-08-20T15:20:00.235481Z",
          "shell.execute_reply": "2025-08-20T15:20:00.240768Z"
        },
        "id": "7364693a"
      },
      "outputs": [],
      "execution_count": null
    },
    {
      "cell_type": "code",
      "source": [
        "for model_name in params:\n",
        "  init_time = time.time()\n",
        "  print(f\"Tuning {model_name}\")\n",
        "\n",
        "  search = RandomizedSearchCV(\n",
        "      estimator=models[model_name],\n",
        "      param_distributions=params[model_name],\n",
        "      n_iter=1,\n",
        "      scoring='accuracy',\n",
        "      cv=2,\n",
        "      random_state=42,\n",
        "      n_jobs=-1\n",
        "  )\n",
        "\n",
        "  if model_name == \"XGBoost\":\n",
        "    search.fit(df_x, df_y - 1)\n",
        "  else:\n",
        "    search.fit(df_x, df_y)\n",
        "\n",
        "  models[model_name + \" (tuned)\"] = search.best_estimator_\n",
        "\n",
        "  if model_name == \"XGBoost\":\n",
        "    valid_pred = search.best_estimator_.predict(valid_x) + 1\n",
        "  else:\n",
        "    valid_pred = search.best_estimator_.predict(valid_x)\n",
        "\n",
        "  f1 = f1_score(valid_y, valid_pred, average='macro')\n",
        "  accuracy = search.best_score_\n",
        "  precision = precision_score(valid_y, valid_pred, average='macro')\n",
        "  recall = recall_score(valid_y, valid_pred, average='macro')\n",
        "  time_taken = round(time.time() - init_time, 2)\n",
        "\n",
        "  results[model_name + \" (tuned)\"] = {\n",
        "      'F1': round(f1, 4),\n",
        "      'Accuracy': round(accuracy, 4),\n",
        "      'Precision': round(precision, 4),\n",
        "      'Recall': round(recall, 4),\n",
        "      'Time': time_taken,\n",
        "  }\n",
        "  print(f\"Best score for {model_name}: {search.best_score_:.4f}\")\n",
        "  print(f\"Best params for {model_name}: {search.best_params_}\")"
      ],
      "metadata": {
        "papermill": {
          "duration": 152.612981,
          "end_time": "2025-08-19T16:49:15.984429",
          "exception": false,
          "start_time": "2025-08-19T16:46:43.371448",
          "status": "completed"
        },
        "tags": [],
        "trusted": true,
        "execution": {
          "iopub.status.busy": "2025-08-20T15:29:08.600564Z",
          "iopub.execute_input": "2025-08-20T15:29:08.601042Z",
          "iopub.status.idle": "2025-08-20T15:32:44.332573Z",
          "shell.execute_reply.started": "2025-08-20T15:29:08.601006Z",
          "shell.execute_reply": "2025-08-20T15:32:44.331617Z"
        },
        "id": "664ce3b6"
      },
      "outputs": [],
      "execution_count": null
    },
    {
      "cell_type": "code",
      "source": [
        "results_df = pd.DataFrame(results).T.sort_values(by='Accuracy', ascending=False)\n",
        "results_df"
      ],
      "metadata": {
        "papermill": {
          "duration": 0.038961,
          "end_time": "2025-08-19T16:49:16.044332",
          "exception": false,
          "start_time": "2025-08-19T16:49:16.005371",
          "status": "completed"
        },
        "tags": [],
        "trusted": true,
        "execution": {
          "iopub.status.busy": "2025-08-20T15:32:44.333655Z",
          "iopub.execute_input": "2025-08-20T15:32:44.333969Z",
          "iopub.status.idle": "2025-08-20T15:32:44.348298Z",
          "shell.execute_reply.started": "2025-08-20T15:32:44.333946Z",
          "shell.execute_reply": "2025-08-20T15:32:44.34735Z"
        },
        "id": "4fcacc46"
      },
      "outputs": [],
      "execution_count": null
    },
    {
      "cell_type": "code",
      "source": [
        "best_model = models[\"XGBoost (tuned)\"]\n",
        "best_model\n",
        "best_model.fit(df_x, df_y - 1)"
      ],
      "metadata": {
        "papermill": {
          "duration": 71.299011,
          "end_time": "2025-08-19T16:50:27.365955",
          "exception": false,
          "start_time": "2025-08-19T16:49:16.066944",
          "status": "completed"
        },
        "tags": [],
        "trusted": true,
        "execution": {
          "iopub.status.busy": "2025-08-20T15:23:41.163433Z",
          "iopub.execute_input": "2025-08-20T15:23:41.163762Z",
          "iopub.status.idle": "2025-08-20T15:25:25.788955Z",
          "shell.execute_reply.started": "2025-08-20T15:23:41.163738Z",
          "shell.execute_reply": "2025-08-20T15:25:25.787946Z"
        },
        "id": "46c85909"
      },
      "outputs": [],
      "execution_count": null
    },
    {
      "cell_type": "code",
      "source": [
        "test_pred = best_model.predict(test_df) + 1\n",
        "\n",
        "submission_df = pd.DataFrame({\n",
        "    'id': range(len(test_pred)),\n",
        "    'rating': test_pred\n",
        "})\n",
        "submission_df.to_csv('submission.csv', index=False)"
      ],
      "metadata": {
        "papermill": {
          "duration": 0.168387,
          "end_time": "2025-08-19T16:50:27.554981",
          "exception": false,
          "start_time": "2025-08-19T16:50:27.386594",
          "status": "completed"
        },
        "tags": [],
        "trusted": true,
        "execution": {
          "iopub.status.busy": "2025-08-20T15:33:18.198093Z",
          "iopub.execute_input": "2025-08-20T15:33:18.19887Z",
          "iopub.status.idle": "2025-08-20T15:33:18.426593Z",
          "shell.execute_reply.started": "2025-08-20T15:33:18.198839Z",
          "shell.execute_reply": "2025-08-20T15:33:18.425629Z"
        },
        "id": "032df7e3"
      },
      "outputs": [],
      "execution_count": null
    }
  ]
}